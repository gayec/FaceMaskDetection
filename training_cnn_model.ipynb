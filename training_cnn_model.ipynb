{
 "cells": [
  {
   "cell_type": "code",
   "execution_count": 1,
   "id": "13b29937",
   "metadata": {},
   "outputs": [],
   "source": [
    "import os\n",
    "import numpy as np\n",
    "import cv2\n",
    "import gc "
   ]
  },
  {
   "cell_type": "code",
   "execution_count": 2,
   "id": "d58eade3",
   "metadata": {},
   "outputs": [],
   "source": [
    "# load the preprocess data\n",
    "data = np.load('./data/data_preprocess.npz')"
   ]
  },
  {
   "cell_type": "code",
   "execution_count": 3,
   "id": "703cacf7",
   "metadata": {},
   "outputs": [],
   "source": [
    "X = data['arr_0']\n",
    "y = data['arr_1']"
   ]
  },
  {
   "cell_type": "code",
   "execution_count": 4,
   "id": "12dad905",
   "metadata": {},
   "outputs": [
    {
     "data": {
      "text/plain": [
       "((5620, 100, 100, 3), (5620,))"
      ]
     },
     "execution_count": 4,
     "metadata": {},
     "output_type": "execute_result"
    }
   ],
   "source": [
    "X.shape, y.shape"
   ]
  },
  {
   "cell_type": "code",
   "execution_count": 5,
   "id": "9952cb6b",
   "metadata": {},
   "outputs": [
    {
     "data": {
      "text/plain": [
       "array(['with_mask', 'without_mask'], dtype='<U12')"
      ]
     },
     "execution_count": 5,
     "metadata": {},
     "output_type": "execute_result"
    }
   ],
   "source": [
    "np.unique(y)"
   ]
  },
  {
   "cell_type": "code",
   "execution_count": 6,
   "id": "1c260893",
   "metadata": {},
   "outputs": [
    {
     "data": {
      "text/plain": [
       "array(['without_mask', 'without_mask', 'without_mask', ..., 'with_mask',\n",
       "       'with_mask', 'with_mask'], dtype='<U12')"
      ]
     },
     "execution_count": 6,
     "metadata": {},
     "output_type": "execute_result"
    }
   ],
   "source": [
    "y"
   ]
  },
  {
   "cell_type": "code",
   "execution_count": 7,
   "id": "4cdf5f0a",
   "metadata": {},
   "outputs": [],
   "source": [
    "#one hot encoding format\n",
    "from sklearn.preprocessing import OneHotEncoder"
   ]
  },
  {
   "cell_type": "code",
   "execution_count": 8,
   "id": "6d5a9d18",
   "metadata": {},
   "outputs": [],
   "source": [
    "onehot = OneHotEncoder()\n",
    "y_onehot = onehot.fit_transform(y.reshape(-1,1))"
   ]
  },
  {
   "cell_type": "code",
   "execution_count": 9,
   "id": "445fde21",
   "metadata": {},
   "outputs": [],
   "source": [
    "y_array = y_onehot.toarray()"
   ]
  },
  {
   "cell_type": "code",
   "execution_count": 10,
   "id": "61b9512c",
   "metadata": {},
   "outputs": [
    {
     "data": {
      "text/plain": [
       "(5620, 2)"
      ]
     },
     "execution_count": 10,
     "metadata": {},
     "output_type": "execute_result"
    }
   ],
   "source": [
    "y_array.shape"
   ]
  },
  {
   "cell_type": "code",
   "execution_count": 11,
   "id": "639e9fd1",
   "metadata": {},
   "outputs": [],
   "source": [
    "###Split the data into Train and Test sets"
   ]
  },
  {
   "cell_type": "code",
   "execution_count": 12,
   "id": "ec6fd169",
   "metadata": {},
   "outputs": [],
   "source": [
    "from sklearn.model_selection import train_test_split\n",
    "x_train,x_test,y_train,y_test = train_test_split(X,y_array,test_size=0.2, random_state = 42) #%20 test, %80 train"
   ]
  },
  {
   "cell_type": "code",
   "execution_count": 13,
   "id": "2406447b",
   "metadata": {},
   "outputs": [
    {
     "data": {
      "text/plain": [
       "((4496, 100, 100, 3), (1124, 100, 100, 3), (4496, 2), (1124, 2))"
      ]
     },
     "execution_count": 13,
     "metadata": {},
     "output_type": "execute_result"
    }
   ],
   "source": [
    "x_train.shape, x_test.shape, y_train.shape, y_test.shape \n",
    "# training data, testing data, label for training, label for testing"
   ]
  },
  {
   "cell_type": "code",
   "execution_count": 14,
   "id": "ad4965a6",
   "metadata": {},
   "outputs": [],
   "source": [
    "import tensorflow as tf\n",
    "from tensorflow.keras import layers\n",
    "from tensorflow.keras import Sequential"
   ]
  },
  {
   "cell_type": "code",
   "execution_count": 15,
   "id": "3c1c3390",
   "metadata": {},
   "outputs": [],
   "source": [
    "# convolutional neural network\n",
    "\n",
    "model = Sequential([\n",
    "    layers.Conv2D(16,3,padding='same',input_shape=(100,100,3),activation = 'relu'), #number of filters, kernel size, info about padding, same padding = 0 padding\n",
    "    layers.MaxPool2D(),\n",
    "    layers.Conv2D(32, 3, padding = 'same',activation = 'relu'),\n",
    "    layers.MaxPool2D(),\n",
    "    layers.Conv2D(64, 3, padding = 'same', activation = 'relu'),\n",
    "    layers.MaxPool2D(),\n",
    "    layers.Flatten(), \n",
    "    layers.Dense(135, activation = 'relu'),\n",
    "    layers.Dense(16, activation = 'relu'),\n",
    "    layers.Dense(2, activation = 'sigmoid')\n",
    "])\n",
    "\n",
    "#compiling CNN model\n",
    "model.compile(optimizer = tf.keras.optimizers.Adam(learning_rate=0.001),\n",
    "                                                   loss=tf.keras.losses.categorical_crossentropy, metrics=['accuracy'])"
   ]
  },
  {
   "cell_type": "code",
   "execution_count": 16,
   "id": "0bae21dd",
   "metadata": {
    "scrolled": false
   },
   "outputs": [
    {
     "name": "stdout",
     "output_type": "stream",
     "text": [
      "Model: \"sequential\"\n",
      "_________________________________________________________________\n",
      " Layer (type)                Output Shape              Param #   \n",
      "=================================================================\n",
      " conv2d (Conv2D)             (None, 100, 100, 16)      448       \n",
      "                                                                 \n",
      " max_pooling2d (MaxPooling2D  (None, 50, 50, 16)       0         \n",
      " )                                                               \n",
      "                                                                 \n",
      " conv2d_1 (Conv2D)           (None, 50, 50, 32)        4640      \n",
      "                                                                 \n",
      " max_pooling2d_1 (MaxPooling  (None, 25, 25, 32)       0         \n",
      " 2D)                                                             \n",
      "                                                                 \n",
      " conv2d_2 (Conv2D)           (None, 25, 25, 64)        18496     \n",
      "                                                                 \n",
      " max_pooling2d_2 (MaxPooling  (None, 12, 12, 64)       0         \n",
      " 2D)                                                             \n",
      "                                                                 \n",
      " flatten (Flatten)           (None, 9216)              0         \n",
      "                                                                 \n",
      " dense (Dense)               (None, 135)               1244295   \n",
      "                                                                 \n",
      " dense_1 (Dense)             (None, 16)                2176      \n",
      "                                                                 \n",
      " dense_2 (Dense)             (None, 2)                 34        \n",
      "                                                                 \n",
      "=================================================================\n",
      "Total params: 1,270,089\n",
      "Trainable params: 1,270,089\n",
      "Non-trainable params: 0\n",
      "_________________________________________________________________\n"
     ]
    }
   ],
   "source": [
    "model.summary()"
   ]
  },
  {
   "cell_type": "code",
   "execution_count": 17,
   "id": "bcc43bd1",
   "metadata": {},
   "outputs": [
    {
     "name": "stdout",
     "output_type": "stream",
     "text": [
      "Epoch 1/10\n",
      "900/900 [==============================] - 44s 48ms/step - loss: 0.1989 - accuracy: 0.9317 - val_loss: 0.2055 - val_accuracy: 0.9279\n",
      "Epoch 2/10\n",
      "900/900 [==============================] - 41s 46ms/step - loss: 0.0911 - accuracy: 0.9655 - val_loss: 0.1072 - val_accuracy: 0.9626\n",
      "Epoch 3/10\n",
      "900/900 [==============================] - 42s 47ms/step - loss: 0.0786 - accuracy: 0.9713 - val_loss: 0.0854 - val_accuracy: 0.9769\n",
      "Epoch 4/10\n",
      "900/900 [==============================] - 45s 50ms/step - loss: 0.0545 - accuracy: 0.9786 - val_loss: 0.0953 - val_accuracy: 0.9760\n",
      "Epoch 5/10\n",
      "900/900 [==============================] - 52s 57ms/step - loss: 0.0509 - accuracy: 0.9840 - val_loss: 0.0772 - val_accuracy: 0.9778\n",
      "Epoch 6/10\n",
      "900/900 [==============================] - 37s 41ms/step - loss: 0.0224 - accuracy: 0.9920 - val_loss: 0.5169 - val_accuracy: 0.9466\n",
      "Epoch 7/10\n",
      "900/900 [==============================] - 38s 43ms/step - loss: 0.0355 - accuracy: 0.9873 - val_loss: 0.1214 - val_accuracy: 0.9804\n",
      "Epoch 8/10\n",
      "900/900 [==============================] - 42s 46ms/step - loss: 0.0145 - accuracy: 0.9951 - val_loss: 0.1753 - val_accuracy: 0.9706\n",
      "Epoch 9/10\n",
      "900/900 [==============================] - 44s 48ms/step - loss: 0.0170 - accuracy: 0.9962 - val_loss: 0.1259 - val_accuracy: 0.9822\n",
      "Epoch 10/10\n",
      "900/900 [==============================] - 68s 76ms/step - loss: 0.0138 - accuracy: 0.9933 - val_loss: 0.1332 - val_accuracy: 0.9724\n"
     ]
    }
   ],
   "source": [
    "#training CNN model\n",
    "history = model.fit(x=x_train,y=y_train,validation_data=(x_test,y_test),batch_size=5,epochs=10)"
   ]
  },
  {
   "cell_type": "code",
   "execution_count": 18,
   "id": "452daded",
   "metadata": {},
   "outputs": [],
   "source": [
    "import pandas as pd\n",
    "import matplotlib.pyplot as plt"
   ]
  },
  {
   "cell_type": "code",
   "execution_count": 19,
   "id": "907ff8a9",
   "metadata": {},
   "outputs": [],
   "source": [
    "history_df = pd.DataFrame(history.history)"
   ]
  },
  {
   "cell_type": "code",
   "execution_count": 20,
   "id": "5e9ab2fa",
   "metadata": {},
   "outputs": [
    {
     "data": {
      "text/html": [
       "<div>\n",
       "<style scoped>\n",
       "    .dataframe tbody tr th:only-of-type {\n",
       "        vertical-align: middle;\n",
       "    }\n",
       "\n",
       "    .dataframe tbody tr th {\n",
       "        vertical-align: top;\n",
       "    }\n",
       "\n",
       "    .dataframe thead th {\n",
       "        text-align: right;\n",
       "    }\n",
       "</style>\n",
       "<table border=\"1\" class=\"dataframe\">\n",
       "  <thead>\n",
       "    <tr style=\"text-align: right;\">\n",
       "      <th></th>\n",
       "      <th>loss</th>\n",
       "      <th>accuracy</th>\n",
       "      <th>val_loss</th>\n",
       "      <th>val_accuracy</th>\n",
       "    </tr>\n",
       "  </thead>\n",
       "  <tbody>\n",
       "    <tr>\n",
       "      <th>0</th>\n",
       "      <td>0.198868</td>\n",
       "      <td>0.931717</td>\n",
       "      <td>0.205483</td>\n",
       "      <td>0.927936</td>\n",
       "    </tr>\n",
       "    <tr>\n",
       "      <th>1</th>\n",
       "      <td>0.091085</td>\n",
       "      <td>0.965525</td>\n",
       "      <td>0.107211</td>\n",
       "      <td>0.962633</td>\n",
       "    </tr>\n",
       "    <tr>\n",
       "      <th>2</th>\n",
       "      <td>0.078585</td>\n",
       "      <td>0.971308</td>\n",
       "      <td>0.085359</td>\n",
       "      <td>0.976868</td>\n",
       "    </tr>\n",
       "    <tr>\n",
       "      <th>3</th>\n",
       "      <td>0.054527</td>\n",
       "      <td>0.978648</td>\n",
       "      <td>0.095315</td>\n",
       "      <td>0.975979</td>\n",
       "    </tr>\n",
       "    <tr>\n",
       "      <th>4</th>\n",
       "      <td>0.050882</td>\n",
       "      <td>0.983986</td>\n",
       "      <td>0.077223</td>\n",
       "      <td>0.977758</td>\n",
       "    </tr>\n",
       "    <tr>\n",
       "      <th>5</th>\n",
       "      <td>0.022409</td>\n",
       "      <td>0.991993</td>\n",
       "      <td>0.516871</td>\n",
       "      <td>0.946619</td>\n",
       "    </tr>\n",
       "    <tr>\n",
       "      <th>6</th>\n",
       "      <td>0.035510</td>\n",
       "      <td>0.987322</td>\n",
       "      <td>0.121387</td>\n",
       "      <td>0.980427</td>\n",
       "    </tr>\n",
       "    <tr>\n",
       "      <th>7</th>\n",
       "      <td>0.014488</td>\n",
       "      <td>0.995107</td>\n",
       "      <td>0.175292</td>\n",
       "      <td>0.970641</td>\n",
       "    </tr>\n",
       "    <tr>\n",
       "      <th>8</th>\n",
       "      <td>0.016959</td>\n",
       "      <td>0.996219</td>\n",
       "      <td>0.125884</td>\n",
       "      <td>0.982206</td>\n",
       "    </tr>\n",
       "    <tr>\n",
       "      <th>9</th>\n",
       "      <td>0.013818</td>\n",
       "      <td>0.993327</td>\n",
       "      <td>0.133193</td>\n",
       "      <td>0.972420</td>\n",
       "    </tr>\n",
       "  </tbody>\n",
       "</table>\n",
       "</div>"
      ],
      "text/plain": [
       "       loss  accuracy  val_loss  val_accuracy\n",
       "0  0.198868  0.931717  0.205483      0.927936\n",
       "1  0.091085  0.965525  0.107211      0.962633\n",
       "2  0.078585  0.971308  0.085359      0.976868\n",
       "3  0.054527  0.978648  0.095315      0.975979\n",
       "4  0.050882  0.983986  0.077223      0.977758\n",
       "5  0.022409  0.991993  0.516871      0.946619\n",
       "6  0.035510  0.987322  0.121387      0.980427\n",
       "7  0.014488  0.995107  0.175292      0.970641\n",
       "8  0.016959  0.996219  0.125884      0.982206\n",
       "9  0.013818  0.993327  0.133193      0.972420"
      ]
     },
     "execution_count": 20,
     "metadata": {},
     "output_type": "execute_result"
    }
   ],
   "source": [
    "history_df"
   ]
  },
  {
   "cell_type": "code",
   "execution_count": 21,
   "id": "2eb2e50d",
   "metadata": {},
   "outputs": [
    {
     "data": {
      "image/png": "[encoded data removed]",
      "text/plain": [
       "<Figure size 432x288 with 1 Axes>"
      ]
     },
     "metadata": {
      "needs_background": "light"
     },
     "output_type": "display_data"
    }
   ],
   "source": [
    "history_df[['accuracy','val_accuracy']].plot(kind='line')\n",
    "plt.xlabel('Epochs')\n",
    "plt.ylabel('Accuracy')\n",
    "plt.xticks(list(range(10)),list(range(1,11)))\n",
    "plt.show()"
   ]
  },
  {
   "cell_type": "code",
   "execution_count": 22,
   "id": "5fee7468",
   "metadata": {},
   "outputs": [
    {
     "data": {
      "image/png": "[encoded data removed]",
      "text/plain": [
       "<Figure size 432x288 with 1 Axes>"
      ]
     },
     "metadata": {
      "needs_background": "light"
     },
     "output_type": "display_data"
    }
   ],
   "source": [
    "history_df[['loss','val_loss']].plot(kind='line')\n",
    "plt.xlabel('Epochs')\n",
    "plt.ylabel('Loss')\n",
    "plt.xticks(list(range(10)),list(range(1,11)))\n",
    "plt.show()"
   ]
  },
  {
   "cell_type": "code",
   "execution_count": 23,
   "id": "bbcdda33",
   "metadata": {},
   "outputs": [],
   "source": [
    "#blue is train accuracy, orange is test accuracy"
   ]
  },
  {
   "cell_type": "code",
   "execution_count": 24,
   "id": "c78b0144",
   "metadata": {},
   "outputs": [
    {
     "name": "stdout",
     "output_type": "stream",
     "text": [
      "INFO:tensorflow:Assets written to: face_cnn_model\\assets\n"
     ]
    }
   ],
   "source": [
    "#Save CNN model\n",
    "model.save('face_cnn_model')"
   ]
  },
  {
   "cell_type": "code",
   "execution_count": 25,
   "id": "27ec1b47",
   "metadata": {},
   "outputs": [
    {
     "data": {
      "text/plain": [
       "[array(['with_mask', 'without_mask'], dtype='<U12')]"
      ]
     },
     "execution_count": 25,
     "metadata": {},
     "output_type": "execute_result"
    }
   ],
   "source": [
    "onehot.categories_"
   ]
  },
  {
   "cell_type": "code",
   "execution_count": null,
   "id": "ac0e4d99",
   "metadata": {},
   "outputs": [],
   "source": []
  },
  {
   "cell_type": "code",
   "execution_count": null,
   "id": "4c36e06b",
   "metadata": {},
   "outputs": [],
   "source": []
  },
  {
   "cell_type": "code",
   "execution_count": null,
   "id": "2700e090",
   "metadata": {},
   "outputs": [],
   "source": []
  }
 ],
 "metadata": {
  "kernelspec": {
   "display_name": "Python 3 (ipykernel)",
   "language": "python",
   "name": "python3"
  },
  "language_info": {
   "codemirror_mode": {
    "name": "ipython",
    "version": 3
   },
   "file_extension": ".py",
   "mimetype": "text/x-python",
   "name": "python",
   "nbconvert_exporter": "python",
   "pygments_lexer": "ipython3",
   "version": "3.9.7"
  }
 },
 "nbformat": 4,
 "nbformat_minor": 5
}
